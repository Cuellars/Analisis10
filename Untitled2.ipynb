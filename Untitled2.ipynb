{
  "nbformat": 4,
  "nbformat_minor": 0,
  "metadata": {
    "colab": {
      "provenance": [],
      "authorship_tag": "ABX9TyNb9lbva0JxfBXVNF7j0cB/",
      "include_colab_link": true
    },
    "kernelspec": {
      "name": "python3",
      "display_name": "Python 3"
    },
    "language_info": {
      "name": "python"
    }
  },
  "cells": [
    {
      "cell_type": "markdown",
      "metadata": {
        "id": "view-in-github",
        "colab_type": "text"
      },
      "source": [
        "<a href=\"https://colab.research.google.com/github/Cuellars/Analisis10/blob/main/Untitled2.ipynb\" target=\"_parent\"><img src=\"https://colab.research.google.com/assets/colab-badge.svg\" alt=\"Open In Colab\"/></a>"
      ]
    },
    {
      "cell_type": "code",
      "execution_count": null,
      "metadata": {
        "id": "M6e5wtqj_TVq"
      },
      "outputs": [],
      "source": [
        "'''\n",
        "Algoritmo gdc(m, n)\n",
        "\n",
        "'''\n",
        "\n",
        "def  mdc ( x , y ):\n",
        "    mayor  =  max ( x , y )\n",
        "    menor  =  min ( x , y )\n",
        "    recordatorio  =  mayor  %  menor\n",
        "    \n",
        "    si ( recordatorio  ==  0 ):\n",
        "        volver  más pequeño\n",
        "    \n",
        "    si ( recordatorio  ! =  0 ):\n",
        "        volver  gdc ( menor , recordatorio )\n",
        "    \n",
        "metro  =  105\n",
        "norte  =  33    \n",
        "\n",
        "imprimir ( gdc ( 105 , 33 ))"
      ]
    }
  ]
}