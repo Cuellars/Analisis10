{
  "nbformat": 4,
  "nbformat_minor": 0,
  "metadata": {
    "colab": {
      "provenance": [],
      "authorship_tag": "ABX9TyOxkfyqgN79VHf7HhIihNvz",
      "include_colab_link": true
    },
    "kernelspec": {
      "name": "python3",
      "display_name": "Python 3"
    },
    "language_info": {
      "name": "python"
    }
  },
  "cells": [
    {
      "cell_type": "markdown",
      "metadata": {
        "id": "view-in-github",
        "colab_type": "text"
      },
      "source": [
        "<a href=\"https://colab.research.google.com/github/Cuellars/Analisis10/blob/main/EJE.ipynb\" target=\"_parent\"><img src=\"https://colab.research.google.com/assets/colab-badge.svg\" alt=\"Open In Colab\"/></a>"
      ]
    },
    {
      "cell_type": "code",
      "source": [
        "'''\n",
        "El problema del jardinero\n",
        "\n",
        "'''\n",
        "#%%\n",
        "importar  matplotlib . pyplot  como  plt\n",
        "\n",
        "def  ball_trayectory ( x ):\n",
        "    ubicación  =  10  *  x  -  5  * ( x ** 2 )\n",
        "     ubicación de devolución\n",
        "\n",
        "xs  = [ x / 100  para  x  en la  lista ( rango ( 201 ))]\n",
        "ys  = [ trayectoria_de_la_bola ( x ) para  x  en  xs ]\n",
        "\n",
        "por favor parcela ( xs , ys )\n",
        "por favor title ( 'El problema del jardinero' )\n",
        "por favor xlabel ( 'Posición horizontal' )\n",
        "por favor ylabel ( 'Posición vertical' )\n",
        "por favor línea del eje ( y  =  0 )\n",
        "por favor mostrar ()\n",
        "# %%\n"
      ],
      "metadata": {
        "colab": {
          "base_uri": "https://localhost:8080/",
          "height": 130
        },
        "id": "IV_2cdvZDE8O",
        "outputId": "452eb535-4f8b-4955-b82a-5311f12d1907"
      },
      "execution_count": null,
      "outputs": [
        {
          "output_type": "error",
          "ename": "SyntaxError",
          "evalue": "ignored",
          "traceback": [
            "\u001b[0;36m  File \u001b[0;32m\"<ipython-input-5-0f9f2f8916c5>\"\u001b[0;36m, line \u001b[0;32m6\u001b[0m\n\u001b[0;31m    importar  matplotlib . pyplot  como  plt\u001b[0m\n\u001b[0m                       ^\u001b[0m\n\u001b[0;31mSyntaxError\u001b[0m\u001b[0;31m:\u001b[0m invalid syntax\n"
          ]
        }
      ]
    }
  ]
}