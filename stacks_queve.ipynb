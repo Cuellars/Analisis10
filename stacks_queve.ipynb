{
  "nbformat": 4,
  "nbformat_minor": 0,
  "metadata": {
    "colab": {
      "provenance": [],
      "authorship_tag": "ABX9TyMuodYBGEtm0ZnYg0gIA6vJ",
      "include_colab_link": true
    },
    "kernelspec": {
      "name": "python3",
      "display_name": "Python 3"
    },
    "language_info": {
      "name": "python"
    }
  },
  "cells": [
    {
      "cell_type": "markdown",
      "metadata": {
        "id": "view-in-github",
        "colab_type": "text"
      },
      "source": [
        "<a href=\"https://colab.research.google.com/github/Cuellars/Analisis10/blob/main/stacks_queve.ipynb\" target=\"_parent\"><img src=\"https://colab.research.google.com/assets/colab-badge.svg\" alt=\"Open In Colab\"/></a>"
      ]
    },
    {
      "cell_type": "code",
      "execution_count": 1,
      "metadata": {
        "colab": {
          "base_uri": "https://localhost:8080/"
        },
        "id": "UB6eMqsgD0q5",
        "outputId": "dbc71b98-ad84-45e0-b345-0ad36543eadc"
      },
      "outputs": [
        {
          "output_type": "stream",
          "name": "stdout",
          "text": [
            "['ALEX', 'ANDRES', 'ANA', 'RAUL', 'ISAAC']\n",
            "ISAAC\n",
            "['ALEX', 'ANDRES', 'ANA', 'RAUL']\n",
            "RAUL\n",
            "['ALEX', 'ANDRES', 'ANA']\n"
          ]
        }
      ],
      "source": [
        "stack = [\"ALEX\", \"ANDRES\", \"ANA\"]\n",
        "stack.append(\"RAUL\")\n",
        "stack.append(\"ISAAC\")\n",
        "print(stack)\n",
        "  \n",
        "\n",
        "print(stack.pop())\n",
        "  \n",
        "print(stack)\n",
        "  \n",
        "\n",
        "print(stack.pop())\n",
        "  \n",
        "print(stack)"
      ]
    },
    {
      "cell_type": "code",
      "source": [
        "queue = [\"ALEX\", \"ANDRES\", \"ANA\"]\n",
        "queue.append(\"RAUL\")\n",
        "queue.append(\"ISAAC\")\n",
        "print(queue)\n",
        "  \n",
        "print(queue.pop(0))\n",
        "  \n",
        "print(queue)\n",
        "  \n",
        "print(queue.pop(0))\n",
        "  \n",
        "print(queue)"
      ],
      "metadata": {
        "colab": {
          "base_uri": "https://localhost:8080/"
        },
        "id": "z355X2v8FFJ4",
        "outputId": "59e2bb0b-88ce-4a53-e342-0aba96ab4ad4"
      },
      "execution_count": 2,
      "outputs": [
        {
          "output_type": "stream",
          "name": "stdout",
          "text": [
            "['ALEX', 'ANDRES', 'ANA', 'RAUL', 'ISAAC']\n",
            "ALEX\n",
            "['ANDRES', 'ANA', 'RAUL', 'ISAAC']\n",
            "ANDRES\n",
            "['ANA', 'RAUL', 'ISAAC']\n"
          ]
        }
      ]
    }
  ]
}