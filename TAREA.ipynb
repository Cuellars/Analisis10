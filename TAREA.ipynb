{
  "nbformat": 4,
  "nbformat_minor": 0,
  "metadata": {
    "colab": {
      "provenance": [],
      "authorship_tag": "ABX9TyOK2D5/UJ/ozhMhBIJ569uO",
      "include_colab_link": true
    },
    "kernelspec": {
      "name": "python3",
      "display_name": "Python 3"
    },
    "language_info": {
      "name": "python"
    }
  },
  "cells": [
    {
      "cell_type": "markdown",
      "metadata": {
        "id": "view-in-github",
        "colab_type": "text"
      },
      "source": [
        "<a href=\"https://colab.research.google.com/github/Cuellars/Analisis10/blob/main/TAREA.ipynb\" target=\"_parent\"><img src=\"https://colab.research.google.com/assets/colab-badge.svg\" alt=\"Open In Colab\"/></a>"
      ]
    },
    {
      "cell_type": "code",
      "execution_count": null,
      "metadata": {
        "colab": {
          "base_uri": "https://localhost:8080/"
        },
        "id": "Q_QJ_8QE03t2",
        "outputId": "68138543-0bba-4ef0-e043-e99a1e27d01e"
      },
      "outputs": [
        {
          "output_type": "stream",
          "name": "stdout",
          "text": [
            "ELEMENTOS\n",
            "['a', 'b', 'c']\n",
            "\n",
            "ELEMENTOS EN PILA:\n",
            "c\n",
            "b\n",
            "a\n"
          ]
        }
      ],
      "source": [
        "stack = []\n",
        " \n",
        "\n",
        "stack.append('a')\n",
        "stack.append('b')\n",
        "stack.append('c')\n",
        " \n",
        "print('ELEMENTOS')\n",
        "print(stack)\n",
        " \n",
        "\n",
        "print('\\nELEMENTOS EN PILA:')\n",
        "print(stack.pop())\n",
        "print(stack.pop())\n",
        "print(stack.pop())\n",
        " \n",
        "\n"
      ]
    },
    {
      "cell_type": "code",
      "source": [
        "\n",
        "class node:\n",
        "    def __init__(self, data = None, next = None):\n",
        "        self.data = data\n",
        "        self.next = next\n",
        "\n",
        "class linked_list: \n",
        "    def __init__(self):\n",
        "        self.head = None\n",
        "    \n",
        "    \n",
        "    def add_at_front(self, data):\n",
        "        self.head = node(data=data, next=self.head)  \n",
        "\n",
        "    \n",
        "    def is_empty(self):\n",
        "        return self.head == None\n",
        "\n",
        "    \n",
        "    def add_at_end(self, data):\n",
        "        if not self.head:\n",
        "            self.head = node(data=data)\n",
        "            return\n",
        "        curr = self.head\n",
        "        while curr.next:\n",
        "            curr = curr.next\n",
        "        curr.next = node(data=data)\n",
        "    \n",
        "    s\n",
        "    def delete_node(self, key):\n",
        "        curr = self.head\n",
        "        prev = None\n",
        "        while curr and curr.data != key:\n",
        "            prev = curr\n",
        "            curr = curr.next\n",
        "        if prev is None:\n",
        "            self.head = curr.next\n",
        "        elif curr:\n",
        "            prev.next = curr.next\n",
        "            curr.next = None\n",
        "\n",
        "    \n",
        "    def get_last_node(self):\n",
        "        temp = self.head\n",
        "        while(temp.next is not None):\n",
        "            temp = temp.next\n",
        "        return temp.data\n",
        "\n",
        "    \n",
        "    def print_list( self ):\n",
        "        node = self.head\n",
        "        while node != None:\n",
        "            print(node.data, end =\" => \")\n",
        "            node = node.next\n",
        "\n",
        "\n",
        "s = linked_list() \n",
        "s.add_at_front(5) \n",
        "s.add_at_end(8) \n",
        "s.add_at_front(9) \n",
        "\n",
        "s.print_list() "
      ],
      "metadata": {
        "colab": {
          "base_uri": "https://localhost:8080/"
        },
        "id": "ysnl5eb154MR",
        "outputId": "05754b10-3312-412f-f9ef-10f4b937ac61"
      },
      "execution_count": null,
      "outputs": [
        {
          "output_type": "stream",
          "name": "stdout",
          "text": [
            "9 => 5 => 8 => "
          ]
        }
      ]
    }
  ]
}