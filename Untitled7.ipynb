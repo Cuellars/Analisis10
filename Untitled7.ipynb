{
  "nbformat": 4,
  "nbformat_minor": 0,
  "metadata": {
    "colab": {
      "provenance": [],
      "authorship_tag": "ABX9TyNl1MkN6xFG9UMV/+FEAcOK",
      "include_colab_link": true
    },
    "kernelspec": {
      "name": "python3",
      "display_name": "Python 3"
    },
    "language_info": {
      "name": "python"
    }
  },
  "cells": [
    {
      "cell_type": "markdown",
      "metadata": {
        "id": "view-in-github",
        "colab_type": "text"
      },
      "source": [
        "<a href=\"https://colab.research.google.com/github/Cuellars/Analisis10/blob/main/Untitled7.ipynb\" target=\"_parent\"><img src=\"https://colab.research.google.com/assets/colab-badge.svg\" alt=\"Open In Colab\"/></a>"
      ]
    },
    {
      "cell_type": "code",
      "execution_count": null,
      "metadata": {
        "colab": {
          "base_uri": "https://localhost:8080/"
        },
        "id": "c6EQ9KLvUn-O",
        "outputId": "ae95f101-6a7a-4886-f503-ae7da7451909"
      },
      "outputs": [
        {
          "output_type": "stream",
          "name": "stdout",
          "text": [
            "lista : [9, 4, 7, 2, 8, 11]\n",
            "Picos : 3\n"
          ]
        }
      ],
      "source": [
        "test_list = [9, 4, 7, 2, 8, 11] \n",
        "  \n",
        "print(\"lista : \" + str(test_list)) \n",
        "  \n",
        "res = 0\n",
        "for idx in range(1, len(test_list) - 1): \n",
        "    if test_list[idx + 1] > test_list[idx] < test_list[idx - 1] or test_list[idx + 1] < test_list[idx] > test_list[idx - 1]: \n",
        "        res += 1\n",
        "  \n",
        "print(\"Picos : \" + str(res)) "
      ]
    }
  ]
}